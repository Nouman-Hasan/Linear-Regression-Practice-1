{
 "cells": [
  {
   "cell_type": "code",
   "execution_count": 1,
   "id": "de593f01-bcc6-4a4f-9078-2059c3aac1da",
   "metadata": {},
   "outputs": [],
   "source": [
    "import numpy as np\n",
    "import pandas as pd\n",
    "import matplotlib.pyplot as plt\n",
    "import seaborn as sns\n",
    "from plotly.offline import download_plotlyjs, init_notebook_mode, plot, iplot\n",
    "import cufflinks as cf\n",
    "import plotly.express as px"
   ]
  },
  {
   "cell_type": "code",
   "execution_count": 2,
   "id": "1edaed55-7ac1-48d7-9938-5e352d35d993",
   "metadata": {},
   "outputs": [
    {
     "data": {
      "text/html": [
       "        <script type=\"text/javascript\">\n",
       "        window.PlotlyConfig = {MathJaxConfig: 'local'};\n",
       "        if (window.MathJax) {MathJax.Hub.Config({SVG: {font: \"STIX-Web\"}});}\n",
       "        if (typeof require !== 'undefined') {\n",
       "        require.undef(\"plotly\");\n",
       "        requirejs.config({\n",
       "            paths: {\n",
       "                'plotly': ['https://cdn.plot.ly/plotly-2.9.0.min']\n",
       "            }\n",
       "        });\n",
       "        require(['plotly'], function(Plotly) {\n",
       "            window._Plotly = Plotly;\n",
       "        });\n",
       "        }\n",
       "        </script>\n",
       "        "
      ]
     },
     "metadata": {},
     "output_type": "display_data"
    },
    {
     "data": {
      "text/html": [
       "        <script type=\"text/javascript\">\n",
       "        window.PlotlyConfig = {MathJaxConfig: 'local'};\n",
       "        if (window.MathJax) {MathJax.Hub.Config({SVG: {font: \"STIX-Web\"}});}\n",
       "        if (typeof require !== 'undefined') {\n",
       "        require.undef(\"plotly\");\n",
       "        requirejs.config({\n",
       "            paths: {\n",
       "                'plotly': ['https://cdn.plot.ly/plotly-2.9.0.min']\n",
       "            }\n",
       "        });\n",
       "        require(['plotly'], function(Plotly) {\n",
       "            window._Plotly = Plotly;\n",
       "        });\n",
       "        }\n",
       "        </script>\n",
       "        "
      ]
     },
     "metadata": {},
     "output_type": "display_data"
    }
   ],
   "source": [
    "sns.set_theme(color_codes=True)\n",
    "sns.set_style('whitegrid')\n",
    "%matplotlib inline\n",
    "init_notebook_mode(connected=True)\n",
    "cf.go_offline()"
   ]
  },
  {
   "cell_type": "code",
   "execution_count": 3,
   "id": "47503f56-9a3a-43f2-9197-e8c6b0039e8a",
   "metadata": {},
   "outputs": [],
   "source": [
    "df = pd.read_csv('Advertising.csv')"
   ]
  },
  {
   "cell_type": "code",
   "execution_count": null,
   "id": "1e7f9a59",
   "metadata": {},
   "outputs": [],
   "source": []
  },
  {
   "cell_type": "code",
   "execution_count": 4,
   "id": "d3162ea2-a4fa-4d8c-aa0d-c725a4ede822",
   "metadata": {},
   "outputs": [],
   "source": [
    "X = df.drop('sales',axis=1)\n",
    "y = df['sales']"
   ]
  },
  {
   "cell_type": "code",
   "execution_count": 5,
   "id": "fba8cfac-0dd3-4c6f-885f-4174df58b19e",
   "metadata": {},
   "outputs": [],
   "source": [
    "from sklearn.preprocessing import PolynomialFeatures"
   ]
  },
  {
   "cell_type": "code",
   "execution_count": 6,
   "id": "90461fa1-cbe1-44c6-88e8-a453d2e00003",
   "metadata": {},
   "outputs": [],
   "source": [
    "from sklearn.model_selection import train_test_split"
   ]
  },
  {
   "cell_type": "code",
   "execution_count": 7,
   "id": "af5d1b87-468c-4121-9584-5130743a0856",
   "metadata": {},
   "outputs": [],
   "source": [
    "from sklearn.linear_model import LinearRegression"
   ]
  },
  {
   "cell_type": "code",
   "execution_count": 8,
   "id": "2b69b2af-dc33-4540-b416-69b689571f78",
   "metadata": {},
   "outputs": [],
   "source": [
    "from sklearn.metrics import mean_absolute_error,mean_squared_error"
   ]
  },
  {
   "cell_type": "code",
   "execution_count": 9,
   "id": "3c42aa60-e52b-4a4e-8553-2e11fe5db713",
   "metadata": {},
   "outputs": [],
   "source": [
    "train_rmse_errors = []\n",
    "test_rmse_errors = []\n",
    "\n",
    "for d in range(1,10):\n",
    "    poly_converter = PolynomialFeatures(degree=d,include_bias=False)\n",
    "    poly_features_ = poly_converter.fit_transform(X)\n",
    "    \n",
    "    X_train, X_test, y_train, y_test = train_test_split(poly_features_, y, test_size=0.3, random_state=101)\n",
    "    \n",
    "    model_ = LinearRegression()\n",
    "    model_.fit(X_train, y_train)\n",
    "    \n",
    "    train_predictions = model_.predict(X_train)\n",
    "    test_predictions = model_.predict(X_test)\n",
    "    \n",
    "    train_rmse = np.sqrt(mean_squared_error(y_train,train_predictions))\n",
    "    test_rmse = np.sqrt(mean_squared_error(y_test,test_predictions))\n",
    "    \n",
    "    train_rmse_errors.append(train_rmse)\n",
    "    test_rmse_errors.append(test_rmse)\n",
    "    \n",
    "    "
   ]
  },
  {
   "cell_type": "code",
   "execution_count": 10,
   "id": "ee53fc8a-6d5b-4e0a-86cb-fcf07ee54371",
   "metadata": {},
   "outputs": [
    {
     "data": {
      "text/plain": [
       "[1.7345941243293763,\n",
       " 0.5879574085292234,\n",
       " 0.43393443569020695,\n",
       " 0.3517083688399349,\n",
       " 0.2509342965968977,\n",
       " 0.20148707132644098,\n",
       " 5.258394206861527,\n",
       " 0.20696080521253987,\n",
       " 0.1695718505595044]"
      ]
     },
     "execution_count": 10,
     "metadata": {},
     "output_type": "execute_result"
    }
   ],
   "source": [
    "train_rmse_errors"
   ]
  },
  {
   "cell_type": "code",
   "execution_count": 11,
   "id": "2760a076-a2e8-45e0-9562-0c198b2d894a",
   "metadata": {},
   "outputs": [
    {
     "data": {
      "text/plain": [
       "[1.5161519375993882,\n",
       " 0.6646431757269136,\n",
       " 0.580328682521393,\n",
       " 0.5077742637145953,\n",
       " 2.575817506458751,\n",
       " 4.1718001617579645,\n",
       " 174.62982254526315,\n",
       " 4679.50452620065,\n",
       " 95835.8634070512]"
      ]
     },
     "execution_count": 11,
     "metadata": {},
     "output_type": "execute_result"
    }
   ],
   "source": [
    "test_rmse_errors"
   ]
  },
  {
   "cell_type": "code",
   "execution_count": null,
   "id": "49e8f016-5b23-47c6-acaa-0e7c49578504",
   "metadata": {},
   "outputs": [],
   "source": []
  },
  {
   "cell_type": "code",
   "execution_count": 12,
   "id": "10fab9f1-8db1-49fe-b416-b4c7266ebad0",
   "metadata": {},
   "outputs": [
    {
     "data": {
      "text/plain": [
       "<matplotlib.legend.Legend at 0x1b4708efa00>"
      ]
     },
     "execution_count": 12,
     "metadata": {},
     "output_type": "execute_result"
    },
    {
     "data": {
      "image/png": "[encoded data removed]",
      "text/plain": [
       "<Figure size 1080x432 with 1 Axes>"
      ]
     },
     "metadata": {
      "needs_background": "light"
     },
     "output_type": "display_data"
    }
   ],
   "source": [
    "plt.figure(figsize=(15,6))\n",
    "plt.plot(range(1,6),train_rmse_errors[:5],label='TRAIN RMSE')\n",
    "plt.plot(range(1,6),test_rmse_errors[:5],label='TEST RMSE')\n",
    "\n",
    "plt.xlabel('Degree of Poly')\n",
    "plt.ylabel('RMSE')\n",
    "plt.legend()"
   ]
  },
  {
   "cell_type": "code",
   "execution_count": 13,
   "id": "ca6e3f27-ff65-4777-818c-d6db46b61618",
   "metadata": {},
   "outputs": [],
   "source": [
    "final_poly_converter = PolynomialFeatures(degree=3,include_bias=False)"
   ]
  },
  {
   "cell_type": "code",
   "execution_count": 14,
   "id": "adeb01e4-b429-4b96-86c0-48df0b58c270",
   "metadata": {},
   "outputs": [],
   "source": [
    "final_model = LinearRegression()"
   ]
  },
  {
   "cell_type": "code",
   "execution_count": 15,
   "id": "3a3697bb-62e9-4c03-a577-67565ec24e01",
   "metadata": {},
   "outputs": [],
   "source": [
    "converted_X = final_poly_converter.fit_transform(X)"
   ]
  },
  {
   "cell_type": "code",
   "execution_count": 16,
   "id": "3c10a893-1254-4852-9dbe-908acdfafcc0",
   "metadata": {},
   "outputs": [
    {
     "data": {
      "text/plain": [
       "LinearRegression()"
      ]
     },
     "execution_count": 16,
     "metadata": {},
     "output_type": "execute_result"
    }
   ],
   "source": [
    "final_model.fit(converted_X,y)"
   ]
  },
  {
   "cell_type": "markdown",
   "id": "5212e28c",
   "metadata": {},
   "source": [
    "### Saving the model"
   ]
  },
  {
   "cell_type": "code",
   "execution_count": 17,
   "id": "a8881e6a-fbfa-4b19-b776-d6c95909ef10",
   "metadata": {},
   "outputs": [],
   "source": [
    "from joblib import load,dump"
   ]
  },
  {
   "cell_type": "code",
   "execution_count": 18,
   "id": "cc1cd0f5-b08d-4b24-8194-d980f2f70912",
   "metadata": {},
   "outputs": [
    {
     "data": {
      "text/plain": [
       "['Final Model.joblib']"
      ]
     },
     "execution_count": 18,
     "metadata": {},
     "output_type": "execute_result"
    }
   ],
   "source": [
    "dump(final_model,'Final Model.joblib')"
   ]
  },
  {
   "cell_type": "code",
   "execution_count": 19,
   "id": "6bfe12ec-2754-4032-81be-d59c0bbf7b6b",
   "metadata": {},
   "outputs": [
    {
     "data": {
      "text/plain": [
       "['Final Polynomial.joblib']"
      ]
     },
     "execution_count": 19,
     "metadata": {},
     "output_type": "execute_result"
    }
   ],
   "source": [
    "dump(final_poly_converter,'Final Polynomial.joblib')"
   ]
  },
  {
   "cell_type": "markdown",
   "id": "64e931ba",
   "metadata": {},
   "source": [
    "### Loading the model"
   ]
  },
  {
   "cell_type": "code",
   "execution_count": 20,
   "id": "488ec0f1-e2be-4866-a4d3-6c6203964b65",
   "metadata": {},
   "outputs": [],
   "source": [
    "loaded_FinalPoly = load(\"Final Polynomial.joblib\")"
   ]
  },
  {
   "cell_type": "code",
   "execution_count": 21,
   "id": "ed6217b1-81ee-42df-ba63-14de04cf8cb9",
   "metadata": {},
   "outputs": [],
   "source": [
    "loaded_FinalModel = load('Final Model.joblib')"
   ]
  },
  {
   "cell_type": "markdown",
   "id": "104a58ee",
   "metadata": {},
   "source": [
    "### Using model "
   ]
  },
  {
   "cell_type": "code",
   "execution_count": 22,
   "id": "99b03b02-cbcb-4a47-ab16-42585b3443c2",
   "metadata": {},
   "outputs": [],
   "source": [
    "campaign = [[149,22,12]]"
   ]
  },
  {
   "cell_type": "code",
   "execution_count": 23,
   "id": "5ef7bad7-14c9-44ec-8651-08517830bfae",
   "metadata": {},
   "outputs": [],
   "source": [
    "transformed_data = loaded_FinalPoly.fit_transform(campaign)"
   ]
  },
  {
   "cell_type": "code",
   "execution_count": 24,
   "id": "23c1156e-c07c-4b6f-a653-e739838f65a0",
   "metadata": {},
   "outputs": [
    {
     "name": "stdout",
     "output_type": "stream",
     "text": [
      "[14.64501014]\n"
     ]
    }
   ],
   "source": [
    "print(loaded_FinalModel.predict(transformed_data))"
   ]
  },
  {
   "cell_type": "code",
   "execution_count": null,
   "id": "e9e135bf-db00-4403-b277-fd02cd26ab1f",
   "metadata": {},
   "outputs": [],
   "source": []
  }
 ],
 "metadata": {
  "kernelspec": {
   "display_name": "Python 3",
   "language": "python",
   "name": "python3"
  },
  "language_info": {
   "codemirror_mode": {
    "name": "ipython",
    "version": 3
   },
   "file_extension": ".py",
   "mimetype": "text/x-python",
   "name": "python",
   "nbconvert_exporter": "python",
   "pygments_lexer": "ipython3",
   "version": "3.8.8"
  }
 },
 "nbformat": 4,
 "nbformat_minor": 5
}
